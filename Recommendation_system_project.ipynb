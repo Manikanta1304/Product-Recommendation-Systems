{
 "cells": [
  {
   "cell_type": "markdown",
   "metadata": {},
   "source": [
    "# Recommendation System Project"
   ]
  },
  {
   "cell_type": "markdown",
   "metadata": {},
   "source": [
    "### Context:\n",
    "Everyday a million products are being recommended to users based on popularity and other metrics on e-commerce websites. The most popular e-commerce website boosts average order value by 50%, increases revenues by 300%, and improves conversion. In addition to being a powerful tool for increasing revenues, product recommendations are so essential that customers now expect to see similar features on all other eCommerce sites.\n"
   ]
  },
  {
   "cell_type": "markdown",
   "metadata": {},
   "source": [
    "### Objective:\n",
    "Build a recommendation system to recommend products to customers based on the their previous ratings for other products."
   ]
  },
  {
   "cell_type": "markdown",
   "metadata": {
    "colab_type": "text",
    "id": "-cs1dSq-THHF"
   },
   "source": [
    "## 1. Read and explore the given dataset. ( Rename column/add headers, plot histograms, find data characteristics) ( 3 Marks) "
   ]
  },
  {
   "cell_type": "code",
   "execution_count": 1,
   "metadata": {
    "colab": {},
    "colab_type": "code",
    "executionInfo": {
     "elapsed": 16203,
     "status": "ok",
     "timestamp": 1600670426945,
     "user": {
      "displayName": "Manikanta",
      "photoUrl": "https://lh3.googleusercontent.com/a-/AOh14GjalsFTDI9zsUMVYFoMjqE33go_8mDBrt3znzOkeg=s64",
      "userId": "03030226540329949734"
     },
     "user_tz": -330
    },
    "id": "k0XCKLrZohVh"
   },
   "outputs": [],
   "source": [
    "import warnings\n",
    "warnings.filterwarnings('ignore')\n",
    "import pandas as pd\n",
    "df = pd.read_csv('ratings_Electronics.csv')"
   ]
  },
  {
   "cell_type": "code",
   "execution_count": 2,
   "metadata": {
    "colab": {},
    "colab_type": "code",
    "executionInfo": {
     "elapsed": 16190,
     "status": "ok",
     "timestamp": 1600670426947,
     "user": {
      "displayName": "Manikanta",
      "photoUrl": "https://lh3.googleusercontent.com/a-/AOh14GjalsFTDI9zsUMVYFoMjqE33go_8mDBrt3znzOkeg=s64",
      "userId": "03030226540329949734"
     },
     "user_tz": -330
    },
    "id": "u9HUd5tcohVl"
   },
   "outputs": [],
   "source": [
    "# naming the columns\n",
    "df.columns = ['user_id','product_id', 'ratings', 'timestamp']\n",
    "\n",
    "#Dropping the Timestamp column\n",
    "df.drop('timestamp',1, inplace=True)"
   ]
  },
  {
   "cell_type": "code",
   "execution_count": 3,
   "metadata": {
    "colab": {
     "base_uri": "https://localhost:8080/",
     "height": 393
    },
    "colab_type": "code",
    "executionInfo": {
     "elapsed": 16186,
     "status": "ok",
     "timestamp": 1600670426949,
     "user": {
      "displayName": "Manikanta",
      "photoUrl": "https://lh3.googleusercontent.com/a-/AOh14GjalsFTDI9zsUMVYFoMjqE33go_8mDBrt3znzOkeg=s64",
      "userId": "03030226540329949734"
     },
     "user_tz": -330
    },
    "id": "yHQtHDc8ohVr",
    "outputId": "b61a4337-a5cb-4237-97eb-ef4e1e2ad9ea"
   },
   "outputs": [
    {
     "name": "stdout",
     "output_type": "stream",
     "text": [
      "Data set contains 7824481 number of rows and 3 number of columns\n",
      "\n"
     ]
    },
    {
     "data": {
      "text/html": [
       "<div>\n",
       "<style scoped>\n",
       "    .dataframe tbody tr th:only-of-type {\n",
       "        vertical-align: middle;\n",
       "    }\n",
       "\n",
       "    .dataframe tbody tr th {\n",
       "        vertical-align: top;\n",
       "    }\n",
       "\n",
       "    .dataframe thead th {\n",
       "        text-align: right;\n",
       "    }\n",
       "</style>\n",
       "<table border=\"1\" class=\"dataframe\">\n",
       "  <thead>\n",
       "    <tr style=\"text-align: right;\">\n",
       "      <th></th>\n",
       "      <th>user_id</th>\n",
       "      <th>product_id</th>\n",
       "      <th>ratings</th>\n",
       "    </tr>\n",
       "  </thead>\n",
       "  <tbody>\n",
       "    <tr>\n",
       "      <td>0</td>\n",
       "      <td>A2CX7LUOHB2NDG</td>\n",
       "      <td>0321732944</td>\n",
       "      <td>5.0</td>\n",
       "    </tr>\n",
       "    <tr>\n",
       "      <td>1</td>\n",
       "      <td>A2NWSAGRHCP8N5</td>\n",
       "      <td>0439886341</td>\n",
       "      <td>1.0</td>\n",
       "    </tr>\n",
       "    <tr>\n",
       "      <td>2</td>\n",
       "      <td>A2WNBOD3WNDNKT</td>\n",
       "      <td>0439886341</td>\n",
       "      <td>3.0</td>\n",
       "    </tr>\n",
       "    <tr>\n",
       "      <td>3</td>\n",
       "      <td>A1GI0U4ZRJA8WN</td>\n",
       "      <td>0439886341</td>\n",
       "      <td>1.0</td>\n",
       "    </tr>\n",
       "    <tr>\n",
       "      <td>4</td>\n",
       "      <td>A1QGNMC6O1VW39</td>\n",
       "      <td>0511189877</td>\n",
       "      <td>5.0</td>\n",
       "    </tr>\n",
       "    <tr>\n",
       "      <td>5</td>\n",
       "      <td>A3J3BRHTDRFJ2G</td>\n",
       "      <td>0511189877</td>\n",
       "      <td>2.0</td>\n",
       "    </tr>\n",
       "    <tr>\n",
       "      <td>6</td>\n",
       "      <td>A2TY0BTJOTENPG</td>\n",
       "      <td>0511189877</td>\n",
       "      <td>5.0</td>\n",
       "    </tr>\n",
       "    <tr>\n",
       "      <td>7</td>\n",
       "      <td>A34ATBPOK6HCHY</td>\n",
       "      <td>0511189877</td>\n",
       "      <td>5.0</td>\n",
       "    </tr>\n",
       "    <tr>\n",
       "      <td>8</td>\n",
       "      <td>A89DO69P0XZ27</td>\n",
       "      <td>0511189877</td>\n",
       "      <td>5.0</td>\n",
       "    </tr>\n",
       "    <tr>\n",
       "      <td>9</td>\n",
       "      <td>AZYNQZ94U6VDB</td>\n",
       "      <td>0511189877</td>\n",
       "      <td>5.0</td>\n",
       "    </tr>\n",
       "  </tbody>\n",
       "</table>\n",
       "</div>"
      ],
      "text/plain": [
       "          user_id  product_id  ratings\n",
       "0  A2CX7LUOHB2NDG  0321732944      5.0\n",
       "1  A2NWSAGRHCP8N5  0439886341      1.0\n",
       "2  A2WNBOD3WNDNKT  0439886341      3.0\n",
       "3  A1GI0U4ZRJA8WN  0439886341      1.0\n",
       "4  A1QGNMC6O1VW39  0511189877      5.0\n",
       "5  A3J3BRHTDRFJ2G  0511189877      2.0\n",
       "6  A2TY0BTJOTENPG  0511189877      5.0\n",
       "7  A34ATBPOK6HCHY  0511189877      5.0\n",
       "8   A89DO69P0XZ27  0511189877      5.0\n",
       "9   AZYNQZ94U6VDB  0511189877      5.0"
      ]
     },
     "execution_count": 3,
     "metadata": {},
     "output_type": "execute_result"
    }
   ],
   "source": [
    "#shape of data \n",
    "shape_Data = df.shape\n",
    "print('Data set contains {} number of rows and {} number of columns' .format(shape_Data[0],shape_Data[1]))\n",
    "\n",
    "print('')\n",
    "\n",
    "#head of the data\n",
    "df.head(10)"
   ]
  },
  {
   "cell_type": "code",
   "execution_count": 4,
   "metadata": {
    "colab": {
     "base_uri": "https://localhost:8080/",
     "height": 187
    },
    "colab_type": "code",
    "executionInfo": {
     "elapsed": 16179,
     "status": "ok",
     "timestamp": 1600670426950,
     "user": {
      "displayName": "Manikanta",
      "photoUrl": "https://lh3.googleusercontent.com/a-/AOh14GjalsFTDI9zsUMVYFoMjqE33go_8mDBrt3znzOkeg=s64",
      "userId": "03030226540329949734"
     },
     "user_tz": -330
    },
    "id": "Be_9oA55ohVw",
    "outputId": "202d6bc9-f956-4473-b3eb-35678874a907"
   },
   "outputs": [
    {
     "name": "stdout",
     "output_type": "stream",
     "text": [
      "<class 'pandas.core.frame.DataFrame'>\n",
      "RangeIndex: 7824481 entries, 0 to 7824480\n",
      "Data columns (total 3 columns):\n",
      "user_id       object\n",
      "product_id    object\n",
      "ratings       float64\n",
      "dtypes: float64(1), object(2)\n",
      "memory usage: 179.1+ MB\n"
     ]
    }
   ],
   "source": [
    "# info of the dataset\n",
    "df.info()"
   ]
  },
  {
   "cell_type": "code",
   "execution_count": 5,
   "metadata": {
    "colab": {
     "base_uri": "https://localhost:8080/",
     "height": 85
    },
    "colab_type": "code",
    "executionInfo": {
     "elapsed": 16171,
     "status": "ok",
     "timestamp": 1600670426950,
     "user": {
      "displayName": "Manikanta",
      "photoUrl": "https://lh3.googleusercontent.com/a-/AOh14GjalsFTDI9zsUMVYFoMjqE33go_8mDBrt3znzOkeg=s64",
      "userId": "03030226540329949734"
     },
     "user_tz": -330
    },
    "id": "aEjyHUrEohV1",
    "outputId": "ef3f9bbf-5788-4427-e821-04c1501dd81c"
   },
   "outputs": [
    {
     "data": {
      "text/plain": [
       "user_id       0\n",
       "product_id    0\n",
       "ratings       0\n",
       "dtype: int64"
      ]
     },
     "execution_count": 5,
     "metadata": {},
     "output_type": "execute_result"
    }
   ],
   "source": [
    "# null value check\n",
    "df.isna().sum()"
   ]
  },
  {
   "cell_type": "code",
   "execution_count": 6,
   "metadata": {
    "colab": {
     "base_uri": "https://localhost:8080/",
     "height": 80
    },
    "colab_type": "code",
    "executionInfo": {
     "elapsed": 16165,
     "status": "ok",
     "timestamp": 1600670426951,
     "user": {
      "displayName": "Manikanta",
      "photoUrl": "https://lh3.googleusercontent.com/a-/AOh14GjalsFTDI9zsUMVYFoMjqE33go_8mDBrt3znzOkeg=s64",
      "userId": "03030226540329949734"
     },
     "user_tz": -330
    },
    "id": "SwQBwf3gVJ42",
    "outputId": "1a1b3d15-5d8f-437f-d53a-3cd86ce9af82"
   },
   "outputs": [
    {
     "data": {
      "text/html": [
       "<div>\n",
       "<style scoped>\n",
       "    .dataframe tbody tr th:only-of-type {\n",
       "        vertical-align: middle;\n",
       "    }\n",
       "\n",
       "    .dataframe tbody tr th {\n",
       "        vertical-align: top;\n",
       "    }\n",
       "\n",
       "    .dataframe thead th {\n",
       "        text-align: right;\n",
       "    }\n",
       "</style>\n",
       "<table border=\"1\" class=\"dataframe\">\n",
       "  <thead>\n",
       "    <tr style=\"text-align: right;\">\n",
       "      <th></th>\n",
       "      <th>count</th>\n",
       "      <th>mean</th>\n",
       "      <th>std</th>\n",
       "      <th>min</th>\n",
       "      <th>25%</th>\n",
       "      <th>50%</th>\n",
       "      <th>75%</th>\n",
       "      <th>max</th>\n",
       "    </tr>\n",
       "  </thead>\n",
       "  <tbody>\n",
       "    <tr>\n",
       "      <td>ratings</td>\n",
       "      <td>7824481.0</td>\n",
       "      <td>4.012337</td>\n",
       "      <td>1.38091</td>\n",
       "      <td>1.0</td>\n",
       "      <td>3.0</td>\n",
       "      <td>5.0</td>\n",
       "      <td>5.0</td>\n",
       "      <td>5.0</td>\n",
       "    </tr>\n",
       "  </tbody>\n",
       "</table>\n",
       "</div>"
      ],
      "text/plain": [
       "             count      mean      std  min  25%  50%  75%  max\n",
       "ratings  7824481.0  4.012337  1.38091  1.0  3.0  5.0  5.0  5.0"
      ]
     },
     "execution_count": 6,
     "metadata": {},
     "output_type": "execute_result"
    }
   ],
   "source": [
    "#Oveview of Data (summary statistics)\n",
    "df.describe().T"
   ]
  },
  {
   "cell_type": "code",
   "execution_count": 7,
   "metadata": {
    "colab": {
     "base_uri": "https://localhost:8080/",
     "height": 119
    },
    "colab_type": "code",
    "executionInfo": {
     "elapsed": 16850,
     "status": "ok",
     "timestamp": 1600670427644,
     "user": {
      "displayName": "Manikanta",
      "photoUrl": "https://lh3.googleusercontent.com/a-/AOh14GjalsFTDI9zsUMVYFoMjqE33go_8mDBrt3znzOkeg=s64",
      "userId": "03030226540329949734"
     },
     "user_tz": -330
    },
    "id": "U19-T1RbohV3",
    "outputId": "a123553e-3ec7-4136-97cf-60f62365ff75"
   },
   "outputs": [
    {
     "name": "stdout",
     "output_type": "stream",
     "text": [
      "Total data\n",
      "--------------------------------------------------\n",
      "\n",
      "Total no of ratings : 7824481\n",
      "Total No of Users   : 4201696\n",
      "Total No of products  : 476001\n"
     ]
    }
   ],
   "source": [
    "print('Total data')\n",
    "print('-' *50)\n",
    "print('\\nTotal no of ratings :',df.shape[0])\n",
    "print('Total No of Users   :', len(df['user_id'].unique()))\n",
    "print('Total No of products  :', len(df['product_id'].unique()))"
   ]
  },
  {
   "cell_type": "markdown",
   "metadata": {
    "colab_type": "text",
    "id": "LRNgCruUVtvM"
   },
   "source": [
    "### Insights\n",
    "* There is no MISSING data\n",
    "* There are 4 Attributes - UserId, ProductId are object Rating is Integer \n",
    "* Rating lies between 1-5"
   ]
  },
  {
   "cell_type": "markdown",
   "metadata": {
    "colab_type": "text",
    "id": "cdBEPoK0WBGt"
   },
   "source": [
    "## 2. Take a subset of the dataset to make it less sparse/ denser. ( For example, keep the users only who has given 50 or more number of ratings ) -(5 Marks)"
   ]
  },
  {
   "cell_type": "markdown",
   "metadata": {
    "colab_type": "text",
    "id": "nUvKD2vOWIgN"
   },
   "source": [
    "* Since the input data has more than 7 million records, To avoid processing difficulties here we are filtering the data which only contains the users which has given ratings more than 100 times."
   ]
  },
  {
   "cell_type": "code",
   "execution_count": 8,
   "metadata": {
    "colab": {},
    "colab_type": "code",
    "executionInfo": {
     "elapsed": 20067,
     "status": "ok",
     "timestamp": 1600670430867,
     "user": {
      "displayName": "Manikanta",
      "photoUrl": "https://lh3.googleusercontent.com/a-/AOh14GjalsFTDI9zsUMVYFoMjqE33go_8mDBrt3znzOkeg=s64",
      "userId": "03030226540329949734"
     },
     "user_tz": -330
    },
    "id": "gpgfZQiYohVy"
   },
   "outputs": [
    {
     "name": "stdout",
     "output_type": "stream",
     "text": [
      "(125871, 3)\n"
     ]
    },
    {
     "data": {
      "text/html": [
       "<div>\n",
       "<style scoped>\n",
       "    .dataframe tbody tr th:only-of-type {\n",
       "        vertical-align: middle;\n",
       "    }\n",
       "\n",
       "    .dataframe tbody tr th {\n",
       "        vertical-align: top;\n",
       "    }\n",
       "\n",
       "    .dataframe thead th {\n",
       "        text-align: right;\n",
       "    }\n",
       "</style>\n",
       "<table border=\"1\" class=\"dataframe\">\n",
       "  <thead>\n",
       "    <tr style=\"text-align: right;\">\n",
       "      <th></th>\n",
       "      <th>user_id</th>\n",
       "      <th>product_id</th>\n",
       "      <th>ratings</th>\n",
       "    </tr>\n",
       "  </thead>\n",
       "  <tbody>\n",
       "    <tr>\n",
       "      <td>93</td>\n",
       "      <td>A3BY5KCNQZXV5U</td>\n",
       "      <td>0594451647</td>\n",
       "      <td>5.0</td>\n",
       "    </tr>\n",
       "    <tr>\n",
       "      <td>117</td>\n",
       "      <td>AT09WGFUM934H</td>\n",
       "      <td>0594481813</td>\n",
       "      <td>3.0</td>\n",
       "    </tr>\n",
       "    <tr>\n",
       "      <td>176</td>\n",
       "      <td>A32HSNCNPRUMTR</td>\n",
       "      <td>0970407998</td>\n",
       "      <td>1.0</td>\n",
       "    </tr>\n",
       "    <tr>\n",
       "      <td>177</td>\n",
       "      <td>A17HMM1M7T9PJ1</td>\n",
       "      <td>0970407998</td>\n",
       "      <td>4.0</td>\n",
       "    </tr>\n",
       "    <tr>\n",
       "      <td>491</td>\n",
       "      <td>A3CLWR1UUZT6TG</td>\n",
       "      <td>0972683275</td>\n",
       "      <td>5.0</td>\n",
       "    </tr>\n",
       "    <tr>\n",
       "      <td>630</td>\n",
       "      <td>A3TAS1AG6FMBQW</td>\n",
       "      <td>0972683275</td>\n",
       "      <td>5.0</td>\n",
       "    </tr>\n",
       "    <tr>\n",
       "      <td>1002</td>\n",
       "      <td>A2Y4H3PXB07WQI</td>\n",
       "      <td>0972683275</td>\n",
       "      <td>4.0</td>\n",
       "    </tr>\n",
       "    <tr>\n",
       "      <td>1137</td>\n",
       "      <td>A25RTRAPQAJBDJ</td>\n",
       "      <td>0972683275</td>\n",
       "      <td>5.0</td>\n",
       "    </tr>\n",
       "    <tr>\n",
       "      <td>1309</td>\n",
       "      <td>A3LDPF5FMB782Z</td>\n",
       "      <td>1400501466</td>\n",
       "      <td>5.0</td>\n",
       "    </tr>\n",
       "    <tr>\n",
       "      <td>1321</td>\n",
       "      <td>A1A5KUIIIHFF4U</td>\n",
       "      <td>1400501466</td>\n",
       "      <td>1.0</td>\n",
       "    </tr>\n",
       "  </tbody>\n",
       "</table>\n",
       "</div>"
      ],
      "text/plain": [
       "             user_id  product_id  ratings\n",
       "93    A3BY5KCNQZXV5U  0594451647      5.0\n",
       "117    AT09WGFUM934H  0594481813      3.0\n",
       "176   A32HSNCNPRUMTR  0970407998      1.0\n",
       "177   A17HMM1M7T9PJ1  0970407998      4.0\n",
       "491   A3CLWR1UUZT6TG  0972683275      5.0\n",
       "630   A3TAS1AG6FMBQW  0972683275      5.0\n",
       "1002  A2Y4H3PXB07WQI  0972683275      4.0\n",
       "1137  A25RTRAPQAJBDJ  0972683275      5.0\n",
       "1309  A3LDPF5FMB782Z  1400501466      5.0\n",
       "1321  A1A5KUIIIHFF4U  1400501466      1.0"
      ]
     },
     "execution_count": 8,
     "metadata": {},
     "output_type": "execute_result"
    }
   ],
   "source": [
    "counts = pd.value_counts(df['user_id'])\n",
    "df1 = df[df['user_id'].isin(counts[counts >= 50].index)]\n",
    "print(df1.shape)\n",
    "df1.head(10)"
   ]
  },
  {
   "cell_type": "code",
   "execution_count": 9,
   "metadata": {
    "colab": {
     "base_uri": "https://localhost:8080/",
     "height": 119
    },
    "colab_type": "code",
    "executionInfo": {
     "elapsed": 20065,
     "status": "ok",
     "timestamp": 1600670430871,
     "user": {
      "displayName": "Manikanta",
      "photoUrl": "https://lh3.googleusercontent.com/a-/AOh14GjalsFTDI9zsUMVYFoMjqE33go_8mDBrt3znzOkeg=s64",
      "userId": "03030226540329949734"
     },
     "user_tz": -330
    },
    "id": "bnPX2pRjohWA",
    "outputId": "d42dbc07-eb76-4818-8974-1127a7764e2e"
   },
   "outputs": [
    {
     "data": {
      "text/plain": [
       "5.0    71034\n",
       "4.0    32295\n",
       "3.0    12060\n",
       "2.0     5367\n",
       "1.0     5115\n",
       "Name: ratings, dtype: int64"
      ]
     },
     "execution_count": 9,
     "metadata": {},
     "output_type": "execute_result"
    }
   ],
   "source": [
    "# distribution of ratings\n",
    "df1.ratings.value_counts()"
   ]
  },
  {
   "cell_type": "code",
   "execution_count": 10,
   "metadata": {
    "colab": {
     "base_uri": "https://localhost:8080/",
     "height": 296
    },
    "colab_type": "code",
    "executionInfo": {
     "elapsed": 26713,
     "status": "ok",
     "timestamp": 1600670437526,
     "user": {
      "displayName": "Manikanta",
      "photoUrl": "https://lh3.googleusercontent.com/a-/AOh14GjalsFTDI9zsUMVYFoMjqE33go_8mDBrt3znzOkeg=s64",
      "userId": "03030226540329949734"
     },
     "user_tz": -330
    },
    "id": "rMt4m3ekohWC",
    "outputId": "f605cc78-ac4f-4892-ca63-20d2fc19d344"
   },
   "outputs": [
    {
     "data": {
      "text/plain": [
       "<matplotlib.axes._subplots.AxesSubplot at 0x1ef04f57188>"
      ]
     },
     "execution_count": 10,
     "metadata": {},
     "output_type": "execute_result"
    }
   ],
   "source": [
    "#distribution of ratings\n",
    "import seaborn as sns\n",
    "sns.distplot(df1['ratings'])"
   ]
  },
  {
   "cell_type": "markdown",
   "metadata": {
    "colab_type": "text",
    "id": "Hov_UknCohV8"
   },
   "source": [
    "* Ratings are on scale of 1-5\n",
    "* We can notice that large peak of rating \"5\", this may be because single user rating or some other kind of skewness.\n"
   ]
  },
  {
   "cell_type": "code",
   "execution_count": 11,
   "metadata": {
    "colab": {
     "base_uri": "https://localhost:8080/",
     "height": 204
    },
    "colab_type": "code",
    "executionInfo": {
     "elapsed": 28556,
     "status": "ok",
     "timestamp": 1600670439375,
     "user": {
      "displayName": "Manikanta",
      "photoUrl": "https://lh3.googleusercontent.com/a-/AOh14GjalsFTDI9zsUMVYFoMjqE33go_8mDBrt3znzOkeg=s64",
      "userId": "03030226540329949734"
     },
     "user_tz": -330
    },
    "id": "50WgnjYKohWE",
    "outputId": "c37c07b9-c34a-420c-82ac-b90a14ecb0bd"
   },
   "outputs": [
    {
     "data": {
      "text/plain": [
       "A5JLAU2ARJ0BO     520\n",
       "ADLVFFE4VBT8      501\n",
       "A3OXHLG6DIBRW8    498\n",
       "A6FIAB28IS79      431\n",
       "A680RUE1FDO8B     406\n",
       "A1ODOGXEYECQQ8    380\n",
       "A36K2N527TXXJN    314\n",
       "A2AY4YUOX2N1BQ    311\n",
       "AWPODHOB4GFWL     308\n",
       "A25C2M3QF9G7OQ    296\n",
       "Name: user_id, dtype: int64"
      ]
     },
     "execution_count": 11,
     "metadata": {},
     "output_type": "execute_result"
    }
   ],
   "source": [
    "# Analysis of rating given by the user \n",
    "most_rated_users = df1.user_id.value_counts().head(10)\n",
    "most_rated_users"
   ]
  },
  {
   "cell_type": "markdown",
   "metadata": {
    "colab_type": "text",
    "id": "vVGgEXH2yh5_"
   },
   "source": [
    "## 3. Build Popularity Recommender model. ( 15 marks)\n",
    "\n",
    "Popularity based recommendation system works with the trend. It basically uses the items which are in trend right now. For example, if any product which is usually bought by every new user then there are chances that it may suggest that item to the user who just signed up.\n",
    "\n",
    "The problems with popularity based recommendation system is that the personalization is not available with this method i.e. even though you know the behaviour of the user you cannot recommend items accordingly."
   ]
  },
  {
   "cell_type": "code",
   "execution_count": 12,
   "metadata": {
    "colab": {
     "base_uri": "https://localhost:8080/",
     "height": 390
    },
    "colab_type": "code",
    "executionInfo": {
     "elapsed": 28552,
     "status": "ok",
     "timestamp": 1600670439377,
     "user": {
      "displayName": "Manikanta",
      "photoUrl": "https://lh3.googleusercontent.com/a-/AOh14GjalsFTDI9zsUMVYFoMjqE33go_8mDBrt3znzOkeg=s64",
      "userId": "03030226540329949734"
     },
     "user_tz": -330
    },
    "id": "khrgNd11qLT5",
    "outputId": "c6e6fa49-f56d-4a5b-9042-86a9e93b2048"
   },
   "outputs": [
    {
     "data": {
      "text/html": [
       "<div>\n",
       "<style scoped>\n",
       "    .dataframe tbody tr th:only-of-type {\n",
       "        vertical-align: middle;\n",
       "    }\n",
       "\n",
       "    .dataframe tbody tr th {\n",
       "        vertical-align: top;\n",
       "    }\n",
       "\n",
       "    .dataframe thead th {\n",
       "        text-align: right;\n",
       "    }\n",
       "</style>\n",
       "<table border=\"1\" class=\"dataframe\">\n",
       "  <thead>\n",
       "    <tr style=\"text-align: right;\">\n",
       "      <th></th>\n",
       "      <th>avg_rating</th>\n",
       "      <th>rating_counts</th>\n",
       "    </tr>\n",
       "    <tr>\n",
       "      <th>product_id</th>\n",
       "      <th></th>\n",
       "      <th></th>\n",
       "    </tr>\n",
       "  </thead>\n",
       "  <tbody>\n",
       "    <tr>\n",
       "      <td>B0088CJT4U</td>\n",
       "      <td>4.218447</td>\n",
       "      <td>206</td>\n",
       "    </tr>\n",
       "    <tr>\n",
       "      <td>B003ES5ZUU</td>\n",
       "      <td>4.864130</td>\n",
       "      <td>184</td>\n",
       "    </tr>\n",
       "    <tr>\n",
       "      <td>B000N99BBC</td>\n",
       "      <td>4.772455</td>\n",
       "      <td>167</td>\n",
       "    </tr>\n",
       "    <tr>\n",
       "      <td>B007WTAJTO</td>\n",
       "      <td>4.701220</td>\n",
       "      <td>164</td>\n",
       "    </tr>\n",
       "    <tr>\n",
       "      <td>B00829TIEK</td>\n",
       "      <td>4.436242</td>\n",
       "      <td>149</td>\n",
       "    </tr>\n",
       "    <tr>\n",
       "      <td>B008DWCRQW</td>\n",
       "      <td>4.094891</td>\n",
       "      <td>137</td>\n",
       "    </tr>\n",
       "    <tr>\n",
       "      <td>B00829THK0</td>\n",
       "      <td>4.416058</td>\n",
       "      <td>137</td>\n",
       "    </tr>\n",
       "    <tr>\n",
       "      <td>B002R5AM7C</td>\n",
       "      <td>4.125000</td>\n",
       "      <td>128</td>\n",
       "    </tr>\n",
       "    <tr>\n",
       "      <td>B004CLYEDC</td>\n",
       "      <td>4.669492</td>\n",
       "      <td>118</td>\n",
       "    </tr>\n",
       "    <tr>\n",
       "      <td>B002SZEOLG</td>\n",
       "      <td>4.247788</td>\n",
       "      <td>113</td>\n",
       "    </tr>\n",
       "  </tbody>\n",
       "</table>\n",
       "</div>"
      ],
      "text/plain": [
       "            avg_rating  rating_counts\n",
       "product_id                           \n",
       "B0088CJT4U    4.218447            206\n",
       "B003ES5ZUU    4.864130            184\n",
       "B000N99BBC    4.772455            167\n",
       "B007WTAJTO    4.701220            164\n",
       "B00829TIEK    4.436242            149\n",
       "B008DWCRQW    4.094891            137\n",
       "B00829THK0    4.416058            137\n",
       "B002R5AM7C    4.125000            128\n",
       "B004CLYEDC    4.669492            118\n",
       "B002SZEOLG    4.247788            113"
      ]
     },
     "execution_count": 12,
     "metadata": {},
     "output_type": "execute_result"
    }
   ],
   "source": [
    "# Average ratings of each product based on the ratings they got from the users\n",
    "df2 = pd.DataFrame(df1.groupby('product_id')['ratings'].mean())\n",
    "\n",
    "# Number of ratings received of each prouduct\n",
    "df2['rating_counts'] = pd.DataFrame(df1.groupby('product_id')['ratings'].count())\n",
    "\n",
    "df2.rename(columns = {'ratings': 'avg_rating'}, inplace=True)\n",
    "\n",
    "# Sorting the products on rating counts\n",
    "df2.sort_values(by='rating_counts',ascending=False).head(10)"
   ]
  },
  {
   "cell_type": "code",
   "execution_count": 13,
   "metadata": {
    "colab": {
     "base_uri": "https://localhost:8080/",
     "height": 297
    },
    "colab_type": "code",
    "executionInfo": {
     "elapsed": 28551,
     "status": "ok",
     "timestamp": 1600670439380,
     "user": {
      "displayName": "Manikanta",
      "photoUrl": "https://lh3.googleusercontent.com/a-/AOh14GjalsFTDI9zsUMVYFoMjqE33go_8mDBrt3znzOkeg=s64",
      "userId": "03030226540329949734"
     },
     "user_tz": -330
    },
    "id": "bMc1BiVRzw0s",
    "outputId": "d07e8097-32fa-4d57-b227-d29ecd9d60ea"
   },
   "outputs": [
    {
     "data": {
      "text/plain": [
       "<matplotlib.axes._subplots.AxesSubplot at 0x1ef05427808>"
      ]
     },
     "execution_count": 13,
     "metadata": {},
     "output_type": "execute_result"
    },
    {
     "data": {
      "image/png": "[encoded data removed]",
      "text/plain": [
       "<Figure size 432x288 with 1 Axes>"
      ]
     },
     "metadata": {
      "needs_background": "light"
     },
     "output_type": "display_data"
    }
   ],
   "source": [
    "#checking distribution of rating_counts\n",
    "sns.distplot(df2['rating_counts'],kde=False, bins=40)"
   ]
  },
  {
   "cell_type": "code",
   "execution_count": 14,
   "metadata": {
    "colab": {
     "base_uri": "https://localhost:8080/",
     "height": 297
    },
    "colab_type": "code",
    "executionInfo": {
     "elapsed": 32841,
     "status": "ok",
     "timestamp": 1600670443675,
     "user": {
      "displayName": "Manikanta",
      "photoUrl": "https://lh3.googleusercontent.com/a-/AOh14GjalsFTDI9zsUMVYFoMjqE33go_8mDBrt3znzOkeg=s64",
      "userId": "03030226540329949734"
     },
     "user_tz": -330
    },
    "id": "UfMSv9ZU0WZh",
    "outputId": "a163f32b-58b8-4ccc-80c4-7eecc554a45b"
   },
   "outputs": [
    {
     "data": {
      "text/plain": [
       "<matplotlib.axes._subplots.AxesSubplot at 0x1ef056942c8>"
      ]
     },
     "execution_count": 14,
     "metadata": {},
     "output_type": "execute_result"
    },
    {
     "data": {
      "image/png": "[encoded data removed]",
      "text/plain": [
       "<Figure size 432x288 with 1 Axes>"
      ]
     },
     "metadata": {
      "needs_background": "light"
     },
     "output_type": "display_data"
    }
   ],
   "source": [
    "#checking distribution of rating\n",
    "sns.distplot(df2['avg_rating'],kde=False, bins=40)"
   ]
  },
  {
   "cell_type": "code",
   "execution_count": 15,
   "metadata": {
    "colab": {
     "base_uri": "https://localhost:8080/",
     "height": 359
    },
    "colab_type": "code",
    "executionInfo": {
     "elapsed": 32837,
     "status": "ok",
     "timestamp": 1600670443676,
     "user": {
      "displayName": "Manikanta",
      "photoUrl": "https://lh3.googleusercontent.com/a-/AOh14GjalsFTDI9zsUMVYFoMjqE33go_8mDBrt3znzOkeg=s64",
      "userId": "03030226540329949734"
     },
     "user_tz": -330
    },
    "id": "T2y4tPnWsrPX",
    "outputId": "d836b043-2ef1-4251-80e3-9b6608a23737"
   },
   "outputs": [
    {
     "data": {
      "text/html": [
       "<div>\n",
       "<style scoped>\n",
       "    .dataframe tbody tr th:only-of-type {\n",
       "        vertical-align: middle;\n",
       "    }\n",
       "\n",
       "    .dataframe tbody tr th {\n",
       "        vertical-align: top;\n",
       "    }\n",
       "\n",
       "    .dataframe thead th {\n",
       "        text-align: right;\n",
       "    }\n",
       "</style>\n",
       "<table border=\"1\" class=\"dataframe\">\n",
       "  <thead>\n",
       "    <tr style=\"text-align: right;\">\n",
       "      <th></th>\n",
       "      <th>product_id</th>\n",
       "      <th>avg_rating</th>\n",
       "      <th>rating_counts</th>\n",
       "      <th>rank</th>\n",
       "    </tr>\n",
       "  </thead>\n",
       "  <tbody>\n",
       "    <tr>\n",
       "      <td>0</td>\n",
       "      <td>B0088CJT4U</td>\n",
       "      <td>4.218447</td>\n",
       "      <td>206</td>\n",
       "      <td>1.0</td>\n",
       "    </tr>\n",
       "    <tr>\n",
       "      <td>1</td>\n",
       "      <td>B003ES5ZUU</td>\n",
       "      <td>4.864130</td>\n",
       "      <td>184</td>\n",
       "      <td>2.0</td>\n",
       "    </tr>\n",
       "    <tr>\n",
       "      <td>2</td>\n",
       "      <td>B000N99BBC</td>\n",
       "      <td>4.772455</td>\n",
       "      <td>167</td>\n",
       "      <td>3.0</td>\n",
       "    </tr>\n",
       "    <tr>\n",
       "      <td>3</td>\n",
       "      <td>B007WTAJTO</td>\n",
       "      <td>4.701220</td>\n",
       "      <td>164</td>\n",
       "      <td>4.0</td>\n",
       "    </tr>\n",
       "    <tr>\n",
       "      <td>4</td>\n",
       "      <td>B00829TIEK</td>\n",
       "      <td>4.436242</td>\n",
       "      <td>149</td>\n",
       "      <td>5.0</td>\n",
       "    </tr>\n",
       "    <tr>\n",
       "      <td>5</td>\n",
       "      <td>B008DWCRQW</td>\n",
       "      <td>4.094891</td>\n",
       "      <td>137</td>\n",
       "      <td>6.0</td>\n",
       "    </tr>\n",
       "    <tr>\n",
       "      <td>6</td>\n",
       "      <td>B00829THK0</td>\n",
       "      <td>4.416058</td>\n",
       "      <td>137</td>\n",
       "      <td>7.0</td>\n",
       "    </tr>\n",
       "    <tr>\n",
       "      <td>7</td>\n",
       "      <td>B002R5AM7C</td>\n",
       "      <td>4.125000</td>\n",
       "      <td>128</td>\n",
       "      <td>8.0</td>\n",
       "    </tr>\n",
       "    <tr>\n",
       "      <td>8</td>\n",
       "      <td>B004CLYEDC</td>\n",
       "      <td>4.669492</td>\n",
       "      <td>118</td>\n",
       "      <td>9.0</td>\n",
       "    </tr>\n",
       "    <tr>\n",
       "      <td>9</td>\n",
       "      <td>B002SZEOLG</td>\n",
       "      <td>4.247788</td>\n",
       "      <td>113</td>\n",
       "      <td>10.0</td>\n",
       "    </tr>\n",
       "  </tbody>\n",
       "</table>\n",
       "</div>"
      ],
      "text/plain": [
       "   product_id  avg_rating  rating_counts  rank\n",
       "0  B0088CJT4U    4.218447            206   1.0\n",
       "1  B003ES5ZUU    4.864130            184   2.0\n",
       "2  B000N99BBC    4.772455            167   3.0\n",
       "3  B007WTAJTO    4.701220            164   4.0\n",
       "4  B00829TIEK    4.436242            149   5.0\n",
       "5  B008DWCRQW    4.094891            137   6.0\n",
       "6  B00829THK0    4.416058            137   7.0\n",
       "7  B002R5AM7C    4.125000            128   8.0\n",
       "8  B004CLYEDC    4.669492            118   9.0\n",
       "9  B002SZEOLG    4.247788            113  10.0"
      ]
     },
     "execution_count": 15,
     "metadata": {},
     "output_type": "execute_result"
    }
   ],
   "source": [
    "# Sorting the products on ratings count\n",
    "df2_sort = df2.sort_values(by='rating_counts', ascending=False)\n",
    "\n",
    "# ranking the products based on the number of ratings they got\n",
    "df2_sort['rank'] = df2_sort['rating_counts'].rank(ascending=0, method='first')\n",
    "\n",
    "# Getting the top 10 recommendations\n",
    "popular_products = df2_sort.head(10)\n",
    "\n",
    "popular_products.reset_index()"
   ]
  },
  {
   "cell_type": "code",
   "execution_count": 16,
   "metadata": {
    "colab": {
     "base_uri": "https://localhost:8080/",
     "height": 398
    },
    "colab_type": "code",
    "executionInfo": {
     "elapsed": 32834,
     "status": "ok",
     "timestamp": 1600670443678,
     "user": {
      "displayName": "Manikanta",
      "photoUrl": "https://lh3.googleusercontent.com/a-/AOh14GjalsFTDI9zsUMVYFoMjqE33go_8mDBrt3znzOkeg=s64",
      "userId": "03030226540329949734"
     },
     "user_tz": -330
    },
    "id": "EY9nrebjO4pB",
    "outputId": "87b0dc57-bde7-4278-8936-522774fc3217"
   },
   "outputs": [
    {
     "data": {
      "image/png": "[encoded data removed]",
      "text/plain": [
       "<Figure size 864x360 with 1 Axes>"
      ]
     },
     "metadata": {
      "needs_background": "light"
     },
     "output_type": "display_data"
    }
   ],
   "source": [
    "# top 30 popular products based on the number of ratings it received\n",
    "pd.DataFrame(df1.groupby('product_id')['ratings'].count()).sort_values(by='ratings',ascending=False).head(30).plot(kind = 'bar', color='brown', figsize=(12,5));"
   ]
  },
  {
   "cell_type": "code",
   "execution_count": 17,
   "metadata": {
    "colab": {},
    "colab_type": "code",
    "executionInfo": {
     "elapsed": 32832,
     "status": "ok",
     "timestamp": 1600670443680,
     "user": {
      "displayName": "Manikanta",
      "photoUrl": "https://lh3.googleusercontent.com/a-/AOh14GjalsFTDI9zsUMVYFoMjqE33go_8mDBrt3znzOkeg=s64",
      "userId": "03030226540329949734"
     },
     "user_tz": -330
    },
    "id": "xe0wIo1giglh"
   },
   "outputs": [],
   "source": [
    "# # figure=plt.figure(figsize=(10,5))\n",
    "# recmetrics.long_tail_plot(df1,'product_id','ratings',percentage=0.5,x_labels=False)"
   ]
  },
  {
   "cell_type": "code",
   "execution_count": 18,
   "metadata": {
    "colab": {},
    "colab_type": "code",
    "executionInfo": {
     "elapsed": 32828,
     "status": "ok",
     "timestamp": 1600670443681,
     "user": {
      "displayName": "Manikanta",
      "photoUrl": "https://lh3.googleusercontent.com/a-/AOh14GjalsFTDI9zsUMVYFoMjqE33go_8mDBrt3znzOkeg=s64",
      "userId": "03030226540329949734"
     },
     "user_tz": -330
    },
    "id": "srJjkYLavfmL"
   },
   "outputs": [],
   "source": [
    "# Use popularity based recommender model to make predictions\n",
    "def recommend(user_id):     \n",
    "    user_recommendations = popular_products \n",
    "          \n",
    "    #Add user_id column for which the recommendations are being generated \n",
    "    user_recommendations['userID'] = user_id \n",
    "      \n",
    "    #Bring user_id column to the front \n",
    "    cols = user_recommendations.columns.tolist()\n",
    "    cols = cols[-1:] + cols[:-1]\n",
    "    user_recommendations = user_recommendations[cols] \n",
    "          \n",
    "    return user_recommendations "
   ]
  },
  {
   "cell_type": "code",
   "execution_count": 19,
   "metadata": {
    "colab": {
     "base_uri": "https://localhost:8080/",
     "height": 527
    },
    "colab_type": "code",
    "executionInfo": {
     "elapsed": 32825,
     "status": "ok",
     "timestamp": 1600670443683,
     "user": {
      "displayName": "Manikanta",
      "photoUrl": "https://lh3.googleusercontent.com/a-/AOh14GjalsFTDI9zsUMVYFoMjqE33go_8mDBrt3znzOkeg=s64",
      "userId": "03030226540329949734"
     },
     "user_tz": -330
    },
    "id": "jZXEDzzfxsMd",
    "outputId": "b8cec26c-04df-4886-b6ec-963f4622eeda"
   },
   "outputs": [
    {
     "name": "stdout",
     "output_type": "stream",
     "text": [
      "Here is the recommendation of products for the userId: 15\n",
      "            userID  avg_rating  rating_counts  rank\n",
      "product_id                                         \n",
      "B0088CJT4U      15    4.218447            206   1.0\n",
      "B003ES5ZUU      15    4.864130            184   2.0\n",
      "B000N99BBC      15    4.772455            167   3.0\n",
      "B007WTAJTO      15    4.701220            164   4.0\n",
      "B00829TIEK      15    4.436242            149   5.0\n",
      "B008DWCRQW      15    4.094891            137   6.0\n",
      "B00829THK0      15    4.416058            137   7.0\n",
      "B002R5AM7C      15    4.125000            128   8.0\n",
      "B004CLYEDC      15    4.669492            118   9.0\n",
      "B002SZEOLG      15    4.247788            113  10.0\n",
      "\n",
      "\n",
      "Here is the recommendation of products for the userId: 10\n",
      "            userID  avg_rating  rating_counts  rank\n",
      "product_id                                         \n",
      "B0088CJT4U      10    4.218447            206   1.0\n",
      "B003ES5ZUU      10    4.864130            184   2.0\n",
      "B000N99BBC      10    4.772455            167   3.0\n",
      "B007WTAJTO      10    4.701220            164   4.0\n",
      "B00829TIEK      10    4.436242            149   5.0\n",
      "B008DWCRQW      10    4.094891            137   6.0\n",
      "B00829THK0      10    4.416058            137   7.0\n",
      "B002R5AM7C      10    4.125000            128   8.0\n",
      "B004CLYEDC      10    4.669492            118   9.0\n",
      "B002SZEOLG      10    4.247788            113  10.0\n",
      "\n",
      "\n"
     ]
    }
   ],
   "source": [
    "find_recom = [15,10]   # This list is user choice.\n",
    "for i in find_recom:\n",
    "    print('Here is the recommendation of products for the userId: {}'.format(i))\n",
    "    print(recommend(i))    \n",
    "    print(\"\\n\") "
   ]
  },
  {
   "cell_type": "markdown",
   "metadata": {
    "colab_type": "text",
    "id": "Ib3cslcjzr4x"
   },
   "source": [
    "* Since this is a popularity-based recommender model, recommendations remain the same for all users\n",
    "\n",
    "* We predict the products based on the popularity. It is not personalized to particular user"
   ]
  },
  {
   "cell_type": "markdown",
   "metadata": {
    "colab_type": "text",
    "id": "lTYVelq0Rx4G"
   },
   "source": [
    "## 4. Split the data randomly into a train and test dataset. ( For example, split it in 70/30 ratio) ( 2 marks) "
   ]
  },
  {
   "cell_type": "code",
   "execution_count": 20,
   "metadata": {
    "colab": {
     "base_uri": "https://localhost:8080/",
     "height": 289
    },
    "colab_type": "code",
    "executionInfo": {
     "elapsed": 80269,
     "status": "ok",
     "timestamp": 1600670655559,
     "user": {
      "displayName": "Manikanta",
      "photoUrl": "https://lh3.googleusercontent.com/a-/AOh14GjalsFTDI9zsUMVYFoMjqE33go_8mDBrt3znzOkeg=s64",
      "userId": "03030226540329949734"
     },
     "user_tz": -330
    },
    "id": "qgDHfj_QR0eM",
    "outputId": "6e4e273f-9fa3-466f-d685-c0d6b0b701c2"
   },
   "outputs": [],
   "source": [
    "from surprise import SVD, KNNWithMeans\n",
    "from surprise import accuracy\n",
    "from surprise import Dataset,Reader\n",
    "from surprise.model_selection import train_test_split"
   ]
  },
  {
   "cell_type": "code",
   "execution_count": 21,
   "metadata": {},
   "outputs": [],
   "source": [
    "# Load the dataframe to surprise. Observation : Got memory error so considering almost 1% only of the original dataset!!\n",
    "reader = Reader(rating_scale=(1, 5))\n",
    "data = Dataset.load_from_df(df1, reader)\n",
    "\n",
    "#Splitting the dataset\n",
    "trainset, testset = train_test_split(data, test_size=.30)"
   ]
  },
  {
   "cell_type": "markdown",
   "metadata": {},
   "source": [
    "## 5. Build Collaborative Filtering model. ( 20 marks)"
   ]
  },
  {
   "cell_type": "markdown",
   "metadata": {},
   "source": [
    "#### Collaborative filtering is commonly used for recommender systems. These techniques aim to fill in the missing entries of a user-item association matrix. We are going to use collaborative filtering (CF) approach. CF is based on the idea that the best recommendations come from people who have similar tastes. In other words, it uses historical item ratings of like-minded people to predict how someone would rate an item.Collaborative filtering has two sub-categories that are generally called user based and item-based approaches.\n",
    "#### Here we are going to use user user based collaborative filtering"
   ]
  },
  {
   "cell_type": "markdown",
   "metadata": {},
   "source": [
    "#### KNNWithMeans"
   ]
  },
  {
   "cell_type": "code",
   "execution_count": 33,
   "metadata": {
    "colab": {},
    "colab_type": "code",
    "id": "TrbKKa0Dx5gC"
   },
   "outputs": [
    {
     "name": "stdout",
     "output_type": "stream",
     "text": [
      "Estimating biases using als...\n",
      "Computing the pearson_baseline similarity matrix...\n",
      "Done computing similarity matrix.\n"
     ]
    },
    {
     "data": {
      "text/plain": [
       "<surprise.prediction_algorithms.knns.KNNWithMeans at 0x1ef124feb88>"
      ]
     },
     "execution_count": 33,
     "metadata": {},
     "output_type": "execute_result"
    }
   ],
   "source": [
    "# Use user_based true/false to switch between user-based or item-based collaborative filtering\n",
    "knn_model = KNNWithMeans(k=50, sim_options={'name': 'pearson_baseline', 'user_based': True})\n",
    "knn_model.fit(trainset)"
   ]
  },
  {
   "cell_type": "markdown",
   "metadata": {},
   "source": [
    "#### SVD Based Recommendation System"
   ]
  },
  {
   "cell_type": "code",
   "execution_count": 23,
   "metadata": {},
   "outputs": [
    {
     "data": {
      "text/plain": [
       "<surprise.prediction_algorithms.matrix_factorization.SVD at 0x1ef0385ddc8>"
      ]
     },
     "execution_count": 23,
     "metadata": {},
     "output_type": "execute_result"
    }
   ],
   "source": [
    "svd_model = SVD(n_factors=5,biased=False)\n",
    "svd_model.fit(trainset)"
   ]
  },
  {
   "cell_type": "markdown",
   "metadata": {},
   "source": [
    "### Collaborative filtering techniques aim to fill in the missing entries of a user-item association matrix.\n",
    "### This is based on the idea that the best recommendations come from people who have similar tastes."
   ]
  },
  {
   "cell_type": "markdown",
   "metadata": {},
   "source": [
    "## 6. Evaluate the above model. ( Once the model is trained on the training data, it can be used to compute the error (like RMSE) on predictions made on the test data.) You can also use a different method to evaluate the models. ( 5 marks)\n"
   ]
  },
  {
   "cell_type": "code",
   "execution_count": 34,
   "metadata": {
    "colab": {},
    "colab_type": "code",
    "executionInfo": {
     "elapsed": 36805,
     "status": "aborted",
     "timestamp": 1600670447680,
     "user": {
      "displayName": "Manikanta",
      "photoUrl": "https://lh3.googleusercontent.com/a-/AOh14GjalsFTDI9zsUMVYFoMjqE33go_8mDBrt3znzOkeg=s64",
      "userId": "03030226540329949734"
     },
     "user_tz": -330
    },
    "id": "4TpVqsNcRn5p"
   },
   "outputs": [
    {
     "name": "stdout",
     "output_type": "stream",
     "text": [
      "RMSE: 1.0473\n",
      "1.0473155037397588\n"
     ]
    }
   ],
   "source": [
    "# run the trained model against the testset\n",
    "test_pred_knn = knn_model.test(testset)\n",
    "print(accuracy.rmse(test_pred_knn))"
   ]
  },
  {
   "cell_type": "code",
   "execution_count": 25,
   "metadata": {},
   "outputs": [
    {
     "name": "stdout",
     "output_type": "stream",
     "text": [
      "RMSE: 1.6775\n"
     ]
    },
    {
     "data": {
      "text/plain": [
       "1.677462346210592"
      ]
     },
     "execution_count": 25,
     "metadata": {},
     "output_type": "execute_result"
    }
   ],
   "source": [
    "test_pred_svd = svd_model.test(testset)\n",
    "accuracy.rmse(test_pred_svd)"
   ]
  },
  {
   "cell_type": "markdown",
   "metadata": {},
   "source": [
    "#### KNNWithMeans gave better results.\n"
   ]
  },
  {
   "cell_type": "markdown",
   "metadata": {},
   "source": [
    "## 7. Get top - K ( K = 5) recommendations. Since our goal is to recommend new products to each user based on his/her habits, we will recommend 5 new products. ( 10 marks)\n"
   ]
  },
  {
   "cell_type": "code",
   "execution_count": 35,
   "metadata": {},
   "outputs": [
    {
     "data": {
      "text/html": [
       "<div>\n",
       "<style scoped>\n",
       "    .dataframe tbody tr th:only-of-type {\n",
       "        vertical-align: middle;\n",
       "    }\n",
       "\n",
       "    .dataframe tbody tr th {\n",
       "        vertical-align: top;\n",
       "    }\n",
       "\n",
       "    .dataframe thead th {\n",
       "        text-align: right;\n",
       "    }\n",
       "</style>\n",
       "<table border=\"1\" class=\"dataframe\">\n",
       "  <thead>\n",
       "    <tr style=\"text-align: right;\">\n",
       "      <th></th>\n",
       "      <th>iid</th>\n",
       "      <th>r_ui</th>\n",
       "      <th>est</th>\n",
       "    </tr>\n",
       "  </thead>\n",
       "  <tbody>\n",
       "    <tr>\n",
       "      <td>4018</td>\n",
       "      <td>B0009K4XI6</td>\n",
       "      <td>5.0</td>\n",
       "      <td>4.258759</td>\n",
       "    </tr>\n",
       "    <tr>\n",
       "      <td>19402</td>\n",
       "      <td>B0041DMFKA</td>\n",
       "      <td>5.0</td>\n",
       "      <td>4.258759</td>\n",
       "    </tr>\n",
       "    <tr>\n",
       "      <td>27987</td>\n",
       "      <td>B004K39QTY</td>\n",
       "      <td>5.0</td>\n",
       "      <td>4.258759</td>\n",
       "    </tr>\n",
       "    <tr>\n",
       "      <td>30721</td>\n",
       "      <td>B002QEBMAK</td>\n",
       "      <td>5.0</td>\n",
       "      <td>1.000000</td>\n",
       "    </tr>\n",
       "    <tr>\n",
       "      <td>1060</td>\n",
       "      <td>B001FFU1GC</td>\n",
       "      <td>3.0</td>\n",
       "      <td>4.258759</td>\n",
       "    </tr>\n",
       "  </tbody>\n",
       "</table>\n",
       "</div>"
      ],
      "text/plain": [
       "              iid  r_ui       est\n",
       "4018   B0009K4XI6   5.0  4.258759\n",
       "19402  B0041DMFKA   5.0  4.258759\n",
       "27987  B004K39QTY   5.0  4.258759\n",
       "30721  B002QEBMAK   5.0  1.000000\n",
       "1060   B001FFU1GC   3.0  4.258759"
      ]
     },
     "execution_count": 35,
     "metadata": {},
     "output_type": "execute_result"
    }
   ],
   "source": [
    "pred_df = pd.DataFrame(test_pred_knn)\n",
    "pred_df[pred_df['uid'] == 'A32AK8FOAZEPE2'][['iid', 'r_ui','est']].sort_values(by = 'r_ui',ascending = False).head(5)"
   ]
  },
  {
   "cell_type": "markdown",
   "metadata": {},
   "source": [
    "#### Here are the top 5 products to be displayed by the recommendation system to the above customer based on the purchase history of other customers in the website.\n",
    "#### Thus we can notice\n",
    "For User :A32AK8FOAZEPE2\n",
    "\n",
    "Recommendation : \n",
    "['B0009K4XI6', 'B0041DMFKA', 'B004K39QTY', 'B002QEBMAK', 'B001FFU1GC']"
   ]
  },
  {
   "cell_type": "markdown",
   "metadata": {},
   "source": [
    "## 8. Summarise your insights. ( 10 marks)"
   ]
  },
  {
   "cell_type": "markdown",
   "metadata": {},
   "source": [
    "* We have 1st explored the basic EDA where we got to know that very less number of people rated more than 50 times and we have filtered the data to minimum of 50 users have given the ratings.\n",
    "* We  first used a popularity based recommender model where we recommended top 5 products where we had cold start problem.(No user info/user insight availble)\n",
    "* Then we have developed a Collaborative Filtering model where we recommended the products based on the similarity between the users taste and We call it user-user collaborative filtering model. For similarity we have used pearson correlation but we can use cosine similarity also to find out distance between our feature vectors.\n",
    "* We computed RMSE to check the performance of our models and got very low RMSE with KnnWithMeans \n",
    "* We have also used Matrix factorization or SVD (Singular Vector Decomposition) to develop a model where we can recommend set of 5 products to each individual users."
   ]
  },
  {
   "cell_type": "code",
   "execution_count": null,
   "metadata": {},
   "outputs": [],
   "source": []
  }
 ],
 "metadata": {
  "colab": {
   "collapsed_sections": [],
   "name": "Recommendation_system_project.ipynb",
   "provenance": [],
   "toc_visible": true
  },
  "kernelspec": {
   "display_name": "Python 3",
   "language": "python",
   "name": "python3"
  },
  "language_info": {
   "codemirror_mode": {
    "name": "ipython",
    "version": 3
   },
   "file_extension": ".py",
   "mimetype": "text/x-python",
   "name": "python",
   "nbconvert_exporter": "python",
   "pygments_lexer": "ipython3",
   "version": "3.8.3"
  }
 },
 "nbformat": 4,
 "nbformat_minor": 1
}
